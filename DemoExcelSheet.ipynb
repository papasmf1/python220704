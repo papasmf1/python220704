from openpyxl import Workbook 

wb = Workbook()
ws = wb.active 
ws.title = "NodoSheet"
wb.save("nadocoding_sample.xlsx")
wb.close()
